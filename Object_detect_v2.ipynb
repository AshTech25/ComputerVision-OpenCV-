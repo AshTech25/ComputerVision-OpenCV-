{
  "nbformat": 4,
  "nbformat_minor": 0,
  "metadata": {
    "colab": {
      "name": "Object detect v2.ipynb",
      "provenance": [],
      "collapsed_sections": [],
      "authorship_tag": "ABX9TyP107CN2SemAVvGE6bf9WyL",
      "include_colab_link": true
    },
    "kernelspec": {
      "name": "python3",
      "display_name": "Python 3"
    },
    "accelerator": "GPU"
  },
  "cells": [
    {
      "cell_type": "markdown",
      "metadata": {
        "id": "view-in-github",
        "colab_type": "text"
      },
      "source": [
        "<a href=\"https://colab.research.google.com/github/AshTech25/ComputerVision-OpenCV-/blob/master/Object_detect_v2.ipynb\" target=\"_parent\"><img src=\"https://colab.research.google.com/assets/colab-badge.svg\" alt=\"Open In Colab\"/></a>"
      ]
    },
    {
      "cell_type": "code",
      "metadata": {
        "id": "aaF3h44qHnZ2",
        "colab_type": "code",
        "colab": {
          "base_uri": "https://localhost:8080/",
          "height": 944
        },
        "outputId": "5da60564-397f-4790-d84b-c152a5435b14"
      },
      "source": [
        "!pip install -U --pre tensorflow==\"2.*\"\n",
        "!pip install tf_slim\n",
        "!pip install pycocotools"
      ],
      "execution_count": null,
      "outputs": [
        {
          "output_type": "stream",
          "text": [
            "Requirement already up-to-date: tensorflow==2.* in /usr/local/lib/python3.6/dist-packages (2.3.0)\n",
            "Requirement already satisfied, skipping upgrade: wheel>=0.26 in /usr/local/lib/python3.6/dist-packages (from tensorflow==2.*) (0.35.1)\n",
            "Requirement already satisfied, skipping upgrade: astunparse==1.6.3 in /usr/local/lib/python3.6/dist-packages (from tensorflow==2.*) (1.6.3)\n",
            "Requirement already satisfied, skipping upgrade: six>=1.12.0 in /usr/local/lib/python3.6/dist-packages (from tensorflow==2.*) (1.15.0)\n",
            "Requirement already satisfied, skipping upgrade: termcolor>=1.1.0 in /usr/local/lib/python3.6/dist-packages (from tensorflow==2.*) (1.1.0)\n",
            "Requirement already satisfied, skipping upgrade: absl-py>=0.7.0 in /usr/local/lib/python3.6/dist-packages (from tensorflow==2.*) (0.8.1)\n",
            "Requirement already satisfied, skipping upgrade: opt-einsum>=2.3.2 in /usr/local/lib/python3.6/dist-packages (from tensorflow==2.*) (3.3.0)\n",
            "Requirement already satisfied, skipping upgrade: gast==0.3.3 in /usr/local/lib/python3.6/dist-packages (from tensorflow==2.*) (0.3.3)\n",
            "Requirement already satisfied, skipping upgrade: h5py<2.11.0,>=2.10.0 in /usr/local/lib/python3.6/dist-packages (from tensorflow==2.*) (2.10.0)\n",
            "Requirement already satisfied, skipping upgrade: scipy==1.4.1 in /usr/local/lib/python3.6/dist-packages (from tensorflow==2.*) (1.4.1)\n",
            "Requirement already satisfied, skipping upgrade: grpcio>=1.8.6 in /usr/local/lib/python3.6/dist-packages (from tensorflow==2.*) (1.31.0)\n",
            "Requirement already satisfied, skipping upgrade: keras-preprocessing<1.2,>=1.1.1 in /usr/local/lib/python3.6/dist-packages (from tensorflow==2.*) (1.1.2)\n",
            "Requirement already satisfied, skipping upgrade: protobuf>=3.9.2 in /usr/local/lib/python3.6/dist-packages (from tensorflow==2.*) (3.12.4)\n",
            "Requirement already satisfied, skipping upgrade: google-pasta>=0.1.8 in /usr/local/lib/python3.6/dist-packages (from tensorflow==2.*) (0.2.0)\n",
            "Requirement already satisfied, skipping upgrade: tensorflow-estimator<2.4.0,>=2.3.0 in /usr/local/lib/python3.6/dist-packages (from tensorflow==2.*) (2.3.0)\n",
            "Requirement already satisfied, skipping upgrade: wrapt>=1.11.1 in /usr/local/lib/python3.6/dist-packages (from tensorflow==2.*) (1.12.1)\n",
            "Requirement already satisfied, skipping upgrade: numpy<1.19.0,>=1.16.0 in /usr/local/lib/python3.6/dist-packages (from tensorflow==2.*) (1.18.5)\n",
            "Requirement already satisfied, skipping upgrade: tensorboard<3,>=2.3.0 in /usr/local/lib/python3.6/dist-packages (from tensorflow==2.*) (2.3.0)\n",
            "Requirement already satisfied, skipping upgrade: setuptools in /usr/local/lib/python3.6/dist-packages (from protobuf>=3.9.2->tensorflow==2.*) (49.6.0)\n",
            "Requirement already satisfied, skipping upgrade: google-auth-oauthlib<0.5,>=0.4.1 in /usr/local/lib/python3.6/dist-packages (from tensorboard<3,>=2.3.0->tensorflow==2.*) (0.4.1)\n",
            "Requirement already satisfied, skipping upgrade: werkzeug>=0.11.15 in /usr/local/lib/python3.6/dist-packages (from tensorboard<3,>=2.3.0->tensorflow==2.*) (1.0.1)\n",
            "Requirement already satisfied, skipping upgrade: markdown>=2.6.8 in /usr/local/lib/python3.6/dist-packages (from tensorboard<3,>=2.3.0->tensorflow==2.*) (3.2.2)\n",
            "Requirement already satisfied, skipping upgrade: google-auth<2,>=1.6.3 in /usr/local/lib/python3.6/dist-packages (from tensorboard<3,>=2.3.0->tensorflow==2.*) (1.17.2)\n",
            "Requirement already satisfied, skipping upgrade: requests<3,>=2.21.0 in /usr/local/lib/python3.6/dist-packages (from tensorboard<3,>=2.3.0->tensorflow==2.*) (2.23.0)\n",
            "Requirement already satisfied, skipping upgrade: tensorboard-plugin-wit>=1.6.0 in /usr/local/lib/python3.6/dist-packages (from tensorboard<3,>=2.3.0->tensorflow==2.*) (1.7.0)\n",
            "Requirement already satisfied, skipping upgrade: requests-oauthlib>=0.7.0 in /usr/local/lib/python3.6/dist-packages (from google-auth-oauthlib<0.5,>=0.4.1->tensorboard<3,>=2.3.0->tensorflow==2.*) (1.3.0)\n",
            "Requirement already satisfied, skipping upgrade: importlib-metadata; python_version < \"3.8\" in /usr/local/lib/python3.6/dist-packages (from markdown>=2.6.8->tensorboard<3,>=2.3.0->tensorflow==2.*) (1.7.0)\n",
            "Requirement already satisfied, skipping upgrade: rsa<5,>=3.1.4; python_version >= \"3\" in /usr/local/lib/python3.6/dist-packages (from google-auth<2,>=1.6.3->tensorboard<3,>=2.3.0->tensorflow==2.*) (4.6)\n",
            "Requirement already satisfied, skipping upgrade: pyasn1-modules>=0.2.1 in /usr/local/lib/python3.6/dist-packages (from google-auth<2,>=1.6.3->tensorboard<3,>=2.3.0->tensorflow==2.*) (0.2.8)\n",
            "Requirement already satisfied, skipping upgrade: cachetools<5.0,>=2.0.0 in /usr/local/lib/python3.6/dist-packages (from google-auth<2,>=1.6.3->tensorboard<3,>=2.3.0->tensorflow==2.*) (4.1.1)\n",
            "Requirement already satisfied, skipping upgrade: idna<3,>=2.5 in /usr/local/lib/python3.6/dist-packages (from requests<3,>=2.21.0->tensorboard<3,>=2.3.0->tensorflow==2.*) (2.10)\n",
            "Requirement already satisfied, skipping upgrade: urllib3!=1.25.0,!=1.25.1,<1.26,>=1.21.1 in /usr/local/lib/python3.6/dist-packages (from requests<3,>=2.21.0->tensorboard<3,>=2.3.0->tensorflow==2.*) (1.24.3)\n",
            "Requirement already satisfied, skipping upgrade: certifi>=2017.4.17 in /usr/local/lib/python3.6/dist-packages (from requests<3,>=2.21.0->tensorboard<3,>=2.3.0->tensorflow==2.*) (2020.6.20)\n",
            "Requirement already satisfied, skipping upgrade: chardet<4,>=3.0.2 in /usr/local/lib/python3.6/dist-packages (from requests<3,>=2.21.0->tensorboard<3,>=2.3.0->tensorflow==2.*) (3.0.4)\n",
            "Requirement already satisfied, skipping upgrade: oauthlib>=3.0.0 in /usr/local/lib/python3.6/dist-packages (from requests-oauthlib>=0.7.0->google-auth-oauthlib<0.5,>=0.4.1->tensorboard<3,>=2.3.0->tensorflow==2.*) (3.1.0)\n",
            "Requirement already satisfied, skipping upgrade: zipp>=0.5 in /usr/local/lib/python3.6/dist-packages (from importlib-metadata; python_version < \"3.8\"->markdown>=2.6.8->tensorboard<3,>=2.3.0->tensorflow==2.*) (3.1.0)\n",
            "Requirement already satisfied, skipping upgrade: pyasn1>=0.1.3 in /usr/local/lib/python3.6/dist-packages (from rsa<5,>=3.1.4; python_version >= \"3\"->google-auth<2,>=1.6.3->tensorboard<3,>=2.3.0->tensorflow==2.*) (0.4.8)\n",
            "Collecting tf_slim\n",
            "\u001b[?25l  Downloading https://files.pythonhosted.org/packages/02/97/b0f4a64df018ca018cc035d44f2ef08f91e2e8aa67271f6f19633a015ff7/tf_slim-1.1.0-py2.py3-none-any.whl (352kB)\n",
            "\u001b[K     |████████████████████████████████| 358kB 4.7MB/s \n",
            "\u001b[?25hRequirement already satisfied: absl-py>=0.2.2 in /usr/local/lib/python3.6/dist-packages (from tf_slim) (0.8.1)\n",
            "Requirement already satisfied: six in /usr/local/lib/python3.6/dist-packages (from absl-py>=0.2.2->tf_slim) (1.15.0)\n",
            "Installing collected packages: tf-slim\n",
            "Successfully installed tf-slim-1.1.0\n",
            "Requirement already satisfied: pycocotools in /usr/local/lib/python3.6/dist-packages (2.0.1)\n",
            "Requirement already satisfied: matplotlib>=2.1.0 in /usr/local/lib/python3.6/dist-packages (from pycocotools) (3.2.2)\n",
            "Requirement already satisfied: setuptools>=18.0 in /usr/local/lib/python3.6/dist-packages (from pycocotools) (49.6.0)\n",
            "Requirement already satisfied: cython>=0.27.3 in /usr/local/lib/python3.6/dist-packages (from pycocotools) (0.29.21)\n",
            "Requirement already satisfied: cycler>=0.10 in /usr/local/lib/python3.6/dist-packages (from matplotlib>=2.1.0->pycocotools) (0.10.0)\n",
            "Requirement already satisfied: kiwisolver>=1.0.1 in /usr/local/lib/python3.6/dist-packages (from matplotlib>=2.1.0->pycocotools) (1.2.0)\n",
            "Requirement already satisfied: pyparsing!=2.0.4,!=2.1.2,!=2.1.6,>=2.0.1 in /usr/local/lib/python3.6/dist-packages (from matplotlib>=2.1.0->pycocotools) (2.4.7)\n",
            "Requirement already satisfied: python-dateutil>=2.1 in /usr/local/lib/python3.6/dist-packages (from matplotlib>=2.1.0->pycocotools) (2.8.1)\n",
            "Requirement already satisfied: numpy>=1.11 in /usr/local/lib/python3.6/dist-packages (from matplotlib>=2.1.0->pycocotools) (1.18.5)\n",
            "Requirement already satisfied: six in /usr/local/lib/python3.6/dist-packages (from cycler>=0.10->matplotlib>=2.1.0->pycocotools) (1.15.0)\n"
          ],
          "name": "stdout"
        }
      ]
    },
    {
      "cell_type": "code",
      "metadata": {
        "id": "74MTbz56HpJA",
        "colab_type": "code",
        "colab": {
          "base_uri": "https://localhost:8080/",
          "height": 692
        },
        "outputId": "8b406250-2ae3-42d4-930c-6b93c463ecde"
      },
      "source": [
        "!pip install pafy\n",
        "!pip install scipy\n",
        "!pip install youtube-dl\n",
        "!pip install labelImg\n",
        "!pip install opencv-contrib-python --upgrade\n",
        "!pip install matplotlib\n"
      ],
      "execution_count": null,
      "outputs": [
        {
          "output_type": "stream",
          "text": [
            "Collecting pafy\n",
            "  Downloading https://files.pythonhosted.org/packages/74/69/829919eeadff695338f98fa12bb99e45490761a2010c8d688d88b6df194a/pafy-0.5.5-py2.py3-none-any.whl\n",
            "Installing collected packages: pafy\n",
            "Successfully installed pafy-0.5.5\n",
            "Requirement already satisfied: scipy in /usr/local/lib/python3.6/dist-packages (1.4.1)\n",
            "Requirement already satisfied: numpy>=1.13.3 in /usr/local/lib/python3.6/dist-packages (from scipy) (1.18.5)\n",
            "Collecting youtube-dl\n",
            "\u001b[?25l  Downloading https://files.pythonhosted.org/packages/a7/d2/6934d56f95a2aaa8b3aad67dea48d1864b975298e1cab96cf816b6771746/youtube_dl-2020.9.6-py2.py3-none-any.whl (1.8MB)\n",
            "\u001b[K     |████████████████████████████████| 1.8MB 4.6MB/s \n",
            "\u001b[?25hInstalling collected packages: youtube-dl\n",
            "Successfully installed youtube-dl-2020.9.6\n",
            "Collecting labelImg\n",
            "\u001b[?25l  Downloading https://files.pythonhosted.org/packages/91/04/3a48958976f3f82a1d21cdfcd26c87f8c753275a88578b9a9e4ca3a18a93/labelImg-1.8.3-py2.py3-none-any.whl (248kB)\n",
            "\u001b[K     |████████████████████████████████| 256kB 4.5MB/s \n",
            "\u001b[?25hCollecting pyqt5\n",
            "\u001b[?25l  Downloading https://files.pythonhosted.org/packages/45/32/341fa5b9fc010ff4e520efe7cdbad24e61890230cf4eb12c871f512ee456/PyQt5-5.15.0-5.15.0-cp35.cp36.cp37.cp38-abi3-manylinux2014_x86_64.whl (76.6MB)\n",
            "\u001b[K     |████████████████████████████████| 76.6MB 39kB/s \n",
            "\u001b[?25hRequirement already satisfied: lxml in /usr/local/lib/python3.6/dist-packages (from labelImg) (4.2.6)\n",
            "Collecting PyQt5-sip<13,>=12.8\n",
            "\u001b[?25l  Downloading https://files.pythonhosted.org/packages/f5/a7/3c52a17b065bcc69a6ca791b88901feeacd410235ec4b23441d975d0ecf4/PyQt5_sip-12.8.1-cp36-cp36m-manylinux1_x86_64.whl (278kB)\n",
            "\u001b[K     |████████████████████████████████| 286kB 57.0MB/s \n",
            "\u001b[?25hInstalling collected packages: PyQt5-sip, pyqt5, labelImg\n",
            "Successfully installed PyQt5-sip-12.8.1 labelImg-1.8.3 pyqt5-5.15.0\n",
            "Collecting opencv-contrib-python\n",
            "\u001b[?25l  Downloading https://files.pythonhosted.org/packages/d6/bb/8a3d0e7e5545fa2c4ad28366104ecb4721166005e511c5bc7655fb376253/opencv_contrib_python-4.4.0.42-cp36-cp36m-manylinux2014_x86_64.whl (55.6MB)\n",
            "\u001b[K     |████████████████████████████████| 55.6MB 62kB/s \n",
            "\u001b[?25hRequirement already satisfied, skipping upgrade: numpy>=1.13.3 in /usr/local/lib/python3.6/dist-packages (from opencv-contrib-python) (1.18.5)\n",
            "Installing collected packages: opencv-contrib-python\n",
            "  Found existing installation: opencv-contrib-python 4.1.2.30\n",
            "    Uninstalling opencv-contrib-python-4.1.2.30:\n",
            "      Successfully uninstalled opencv-contrib-python-4.1.2.30\n",
            "Successfully installed opencv-contrib-python-4.4.0.42\n",
            "Requirement already satisfied: matplotlib in /usr/local/lib/python3.6/dist-packages (3.2.2)\n",
            "Requirement already satisfied: pyparsing!=2.0.4,!=2.1.2,!=2.1.6,>=2.0.1 in /usr/local/lib/python3.6/dist-packages (from matplotlib) (2.4.7)\n",
            "Requirement already satisfied: cycler>=0.10 in /usr/local/lib/python3.6/dist-packages (from matplotlib) (0.10.0)\n",
            "Requirement already satisfied: python-dateutil>=2.1 in /usr/local/lib/python3.6/dist-packages (from matplotlib) (2.8.1)\n",
            "Requirement already satisfied: numpy>=1.11 in /usr/local/lib/python3.6/dist-packages (from matplotlib) (1.18.5)\n",
            "Requirement already satisfied: kiwisolver>=1.0.1 in /usr/local/lib/python3.6/dist-packages (from matplotlib) (1.2.0)\n",
            "Requirement already satisfied: six in /usr/local/lib/python3.6/dist-packages (from cycler>=0.10->matplotlib) (1.15.0)\n"
          ],
          "name": "stdout"
        }
      ]
    },
    {
      "cell_type": "code",
      "metadata": {
        "id": "8NDucWqbHx2c",
        "colab_type": "code",
        "colab": {}
      },
      "source": [
        "import os\n",
        "import shutil\n",
        "import glob \n",
        "import scipy\n",
        "import matplotlib as py\n",
        "import numpy as np\n",
        "import math\n",
        "import sys\n",
        "import datetime\n",
        "import tarfile\n",
        "import urllib\n",
        "import urllib.request\n",
        "from urllib.request import urlopen\n",
        "from io import BytesIO\n",
        "from zipfile import ZipFile\n",
        "import re\n",
        "import pafy\n",
        "import gdown\n",
        "import cv2 "
      ],
      "execution_count": null,
      "outputs": []
    },
    {
      "cell_type": "code",
      "metadata": {
        "id": "VTbcHsL9H0xO",
        "colab_type": "code",
        "colab": {
          "base_uri": "https://localhost:8080/",
          "height": 134
        },
        "outputId": "cab4188f-8da2-4475-a836-15f69dae1633"
      },
      "source": [
        "!git clone --depth 1 https://github.com/tensorflow/models"
      ],
      "execution_count": null,
      "outputs": [
        {
          "output_type": "stream",
          "text": [
            "Cloning into 'models'...\n",
            "remote: Enumerating objects: 2161, done.\u001b[K\n",
            "remote: Counting objects: 100% (2161/2161), done.\u001b[K\n",
            "remote: Compressing objects: 100% (1862/1862), done.\u001b[K\n",
            "remote: Total 2161 (delta 513), reused 977 (delta 275), pack-reused 0\u001b[K\n",
            "Receiving objects: 100% (2161/2161), 30.38 MiB | 27.38 MiB/s, done.\n",
            "Resolving deltas: 100% (513/513), done.\n"
          ],
          "name": "stdout"
        }
      ]
    },
    {
      "cell_type": "code",
      "metadata": {
        "id": "CAOj9MRpH3VW",
        "colab_type": "code",
        "colab": {}
      },
      "source": [
        "%%bash\n",
        "cd models/research/\n",
        "protoc object_detection/protos/*.proto --python_out=."
      ],
      "execution_count": null,
      "outputs": []
    },
    {
      "cell_type": "code",
      "metadata": {
        "id": "wgJmgwf4H5rx",
        "colab_type": "code",
        "colab": {
          "base_uri": "https://localhost:8080/",
          "height": 339
        },
        "outputId": "446b6d85-fe5b-40b0-8836-ef804470728a"
      },
      "source": [
        "%%bash \n",
        "cd models/research\n",
        "pip install ."
      ],
      "execution_count": null,
      "outputs": [
        {
          "output_type": "stream",
          "text": [
            "Processing /content/models/research\n",
            "Requirement already satisfied: Pillow>=1.0 in /usr/local/lib/python3.6/dist-packages (from object-detection==0.1) (7.0.0)\n",
            "Requirement already satisfied: Matplotlib>=2.1 in /usr/local/lib/python3.6/dist-packages (from object-detection==0.1) (3.2.2)\n",
            "Requirement already satisfied: Cython>=0.28.1 in /usr/local/lib/python3.6/dist-packages (from object-detection==0.1) (0.29.21)\n",
            "Requirement already satisfied: numpy>=1.11 in /usr/local/lib/python3.6/dist-packages (from Matplotlib>=2.1->object-detection==0.1) (1.18.5)\n",
            "Requirement already satisfied: pyparsing!=2.0.4,!=2.1.2,!=2.1.6,>=2.0.1 in /usr/local/lib/python3.6/dist-packages (from Matplotlib>=2.1->object-detection==0.1) (2.4.7)\n",
            "Requirement already satisfied: cycler>=0.10 in /usr/local/lib/python3.6/dist-packages (from Matplotlib>=2.1->object-detection==0.1) (0.10.0)\n",
            "Requirement already satisfied: kiwisolver>=1.0.1 in /usr/local/lib/python3.6/dist-packages (from Matplotlib>=2.1->object-detection==0.1) (1.2.0)\n",
            "Requirement already satisfied: python-dateutil>=2.1 in /usr/local/lib/python3.6/dist-packages (from Matplotlib>=2.1->object-detection==0.1) (2.8.1)\n",
            "Requirement already satisfied: six in /usr/local/lib/python3.6/dist-packages (from cycler>=0.10->Matplotlib>=2.1->object-detection==0.1) (1.15.0)\n",
            "Building wheels for collected packages: object-detection\n",
            "  Building wheel for object-detection (setup.py): started\n",
            "  Building wheel for object-detection (setup.py): finished with status 'done'\n",
            "  Created wheel for object-detection: filename=object_detection-0.1-cp36-none-any.whl size=1340180 sha256=fdddf2f7dc86667c6833956a50f9b80d963a8f7115c705471e0fea0fd6839064\n",
            "  Stored in directory: /tmp/pip-ephem-wheel-cache-cwxdyujg/wheels/94/49/4b/39b051683087a22ef7e80ec52152a27249d1a644ccf4e442ea\n",
            "Successfully built object-detection\n",
            "Installing collected packages: object-detection\n",
            "Successfully installed object-detection-0.1\n"
          ],
          "name": "stdout"
        }
      ]
    },
    {
      "cell_type": "code",
      "metadata": {
        "id": "Vb30gOTAH8u1",
        "colab_type": "code",
        "colab": {
          "base_uri": "https://localhost:8080/",
          "height": 50
        },
        "outputId": "afb4638c-c636-4c6a-cd6d-656871cb7c98"
      },
      "source": [
        "\n",
        "url = \"https://www.youtube.com/watch?v=blWvD93bALE\"\n",
        "\n",
        "# Set the name of the Video \n",
        "video_name =  \"support/test_images/\"\n",
        "\n",
        "\n",
        "if not os.path.exists(video_name):\n",
        "  os.makedirs(video_name)\n",
        "  print(\"DIr made\")\n",
        "video=pafy.new(url)\n",
        "bestVideo=video.getbest()\n",
        "bestVideo.download(filepath=video_name)"
      ],
      "execution_count": null,
      "outputs": [
        {
          "output_type": "stream",
          "text": [
            "DIr made\n",
            "\n"
          ],
          "name": "stdout"
        }
      ]
    },
    {
      "cell_type": "code",
      "metadata": {
        "id": "GwCCYO44IAKZ",
        "colab_type": "code",
        "colab": {
          "base_uri": "https://localhost:8080/",
          "height": 34
        },
        "outputId": "4b623b6f-1a76-4b19-d895-9d2e247e2b98"
      },
      "source": [
        "output_directory = \"training/images\"\n",
        "\n",
        "sec = 1.5\n",
        "\n",
        "if not os.path.exists(output_directory):\n",
        "    os.makedirs(output_directory)\n",
        "\n",
        "cap = cv2.VideoCapture(video_name+str('Tom And Jerry ( 5♦ ).mp4'))\n",
        "\n",
        "fps = cap.get(cv2.CAP_PROP_FPS)\n",
        "\n",
        "no_of_frames_to_skip = round(sec * fps)\n",
        "\n",
        "frame_count = 0\n",
        "\n",
        "while True:\n",
        "\n",
        "    ret, frame = cap.read()\n",
        "    \n",
        "    if not ret:\n",
        "        break\n",
        "\n",
        "    frame_Id = int(cap.get(1))\n",
        "\n",
        "    if frame_Id % no_of_frames_to_skip == 0:\n",
        "        \n",
        "        fname = '_{str_0:0>{str_1}}.jpg'.format(str_0=frame_count, str_1=3)\n",
        "        cv2.imwrite(os.path.join(output_directory, fname), frame)\n",
        "\n",
        "        frame_count += 1\n",
        "        \n",
        "print('Total Images saved: {}'.format(frame_count))\n",
        "\n",
        "cap.release()\n"
      ],
      "execution_count": null,
      "outputs": [
        {
          "output_type": "stream",
          "text": [
            "Total Images saved: 165\n"
          ],
          "name": "stdout"
        }
      ]
    },
    {
      "cell_type": "code",
      "metadata": {
        "id": "bGtFHgxjID_p",
        "colab_type": "code",
        "colab": {
          "base_uri": "https://localhost:8080/",
          "height": 121
        },
        "outputId": "1f4643ec-c848-4ee6-f4ba-28e96da40921"
      },
      "source": [
        "from google.colab import drive\n",
        "drive.mount('/content/drive')"
      ],
      "execution_count": null,
      "outputs": [
        {
          "output_type": "stream",
          "text": [
            "Go to this URL in a browser: https://accounts.google.com/o/oauth2/auth?client_id=947318989803-6bn6qk8qdgf4n4g3pfee6491hc0brc4i.apps.googleusercontent.com&redirect_uri=urn%3aietf%3awg%3aoauth%3a2.0%3aoob&scope=email%20https%3a%2f%2fwww.googleapis.com%2fauth%2fdocs.test%20https%3a%2f%2fwww.googleapis.com%2fauth%2fdrive%20https%3a%2f%2fwww.googleapis.com%2fauth%2fdrive.photos.readonly%20https%3a%2f%2fwww.googleapis.com%2fauth%2fpeopleapi.readonly&response_type=code\n",
            "\n",
            "Enter your authorization code:\n",
            "4/3wF6eul1F0axuOdg0BNOOyZUDNbPlst_0Al8X9IktRTV0ddF5-Sn7N0\n",
            "Mounted at /content/drive\n"
          ],
          "name": "stdout"
        }
      ]
    },
    {
      "cell_type": "code",
      "metadata": {
        "id": "YNlbek9sIrVb",
        "colab_type": "code",
        "colab": {
          "base_uri": "https://localhost:8080/",
          "height": 34
        },
        "outputId": "949f18eb-02f5-4d62-a884-9fb1d8830e53"
      },
      "source": [
        "%cd '/content/drive/My Drive'"
      ],
      "execution_count": null,
      "outputs": [
        {
          "output_type": "stream",
          "text": [
            "/content/drive/My Drive\n"
          ],
          "name": "stdout"
        }
      ]
    },
    {
      "cell_type": "code",
      "metadata": {
        "id": "8xjO4D3mI5KM",
        "colab_type": "code",
        "colab": {
          "base_uri": "https://localhost:8080/",
          "height": 1000
        },
        "outputId": "181f8bb1-24e9-468e-c168-82f95ed79a9d"
      },
      "source": [
        "%cp -av '/content/drive/My Drive/Helper/labels' '/content/support'\n",
        "%cp -av '/content/drive/My Drive/Helper/create_tf_record.py' '/content/support'\n",
        "%cp -av '/content/drive/My Drive/Helper/label_map.pbtxt' '/content/support'"
      ],
      "execution_count": null,
      "outputs": [
        {
          "output_type": "stream",
          "text": [
            "'/content/drive/My Drive/Helper/labels' -> '/content/support/labels'\n",
            "'/content/drive/My Drive/Helper/labels/_000.xml' -> '/content/support/labels/_000.xml'\n",
            "'/content/drive/My Drive/Helper/labels/_001.xml' -> '/content/support/labels/_001.xml'\n",
            "'/content/drive/My Drive/Helper/labels/_002.xml' -> '/content/support/labels/_002.xml'\n",
            "'/content/drive/My Drive/Helper/labels/_006.xml' -> '/content/support/labels/_006.xml'\n",
            "'/content/drive/My Drive/Helper/labels/_003.xml' -> '/content/support/labels/_003.xml'\n",
            "'/content/drive/My Drive/Helper/labels/_008.xml' -> '/content/support/labels/_008.xml'\n",
            "'/content/drive/My Drive/Helper/labels/_009.xml' -> '/content/support/labels/_009.xml'\n",
            "'/content/drive/My Drive/Helper/labels/_011.xml' -> '/content/support/labels/_011.xml'\n",
            "'/content/drive/My Drive/Helper/labels/_010.xml' -> '/content/support/labels/_010.xml'\n",
            "'/content/drive/My Drive/Helper/labels/_013.xml' -> '/content/support/labels/_013.xml'\n",
            "'/content/drive/My Drive/Helper/labels/_014.xml' -> '/content/support/labels/_014.xml'\n",
            "'/content/drive/My Drive/Helper/labels/_015.xml' -> '/content/support/labels/_015.xml'\n",
            "'/content/drive/My Drive/Helper/labels/_016.xml' -> '/content/support/labels/_016.xml'\n",
            "'/content/drive/My Drive/Helper/labels/_017.xml' -> '/content/support/labels/_017.xml'\n",
            "'/content/drive/My Drive/Helper/labels/_019.xml' -> '/content/support/labels/_019.xml'\n",
            "'/content/drive/My Drive/Helper/labels/_018.xml' -> '/content/support/labels/_018.xml'\n",
            "'/content/drive/My Drive/Helper/labels/_020.xml' -> '/content/support/labels/_020.xml'\n",
            "'/content/drive/My Drive/Helper/labels/_021.xml' -> '/content/support/labels/_021.xml'\n",
            "'/content/drive/My Drive/Helper/labels/_022.xml' -> '/content/support/labels/_022.xml'\n",
            "'/content/drive/My Drive/Helper/labels/_024.xml' -> '/content/support/labels/_024.xml'\n",
            "'/content/drive/My Drive/Helper/labels/_023.xml' -> '/content/support/labels/_023.xml'\n",
            "'/content/drive/My Drive/Helper/labels/_027.xml' -> '/content/support/labels/_027.xml'\n",
            "'/content/drive/My Drive/Helper/labels/_025.xml' -> '/content/support/labels/_025.xml'\n",
            "'/content/drive/My Drive/Helper/labels/_029.xml' -> '/content/support/labels/_029.xml'\n",
            "'/content/drive/My Drive/Helper/labels/_028.xml' -> '/content/support/labels/_028.xml'\n",
            "'/content/drive/My Drive/Helper/labels/_033.xml' -> '/content/support/labels/_033.xml'\n",
            "'/content/drive/My Drive/Helper/labels/_034.xml' -> '/content/support/labels/_034.xml'\n",
            "'/content/drive/My Drive/Helper/labels/_035.xml' -> '/content/support/labels/_035.xml'\n",
            "'/content/drive/My Drive/Helper/labels/_038.xml' -> '/content/support/labels/_038.xml'\n",
            "'/content/drive/My Drive/Helper/labels/_037.xml' -> '/content/support/labels/_037.xml'\n",
            "'/content/drive/My Drive/Helper/labels/_036.xml' -> '/content/support/labels/_036.xml'\n",
            "'/content/drive/My Drive/Helper/labels/_039.xml' -> '/content/support/labels/_039.xml'\n",
            "'/content/drive/My Drive/Helper/labels/_041.xml' -> '/content/support/labels/_041.xml'\n",
            "'/content/drive/My Drive/Helper/labels/_040.xml' -> '/content/support/labels/_040.xml'\n",
            "'/content/drive/My Drive/Helper/labels/_042.xml' -> '/content/support/labels/_042.xml'\n",
            "'/content/drive/My Drive/Helper/labels/_044.xml' -> '/content/support/labels/_044.xml'\n",
            "'/content/drive/My Drive/Helper/labels/_046.xml' -> '/content/support/labels/_046.xml'\n",
            "'/content/drive/My Drive/Helper/labels/_047.xml' -> '/content/support/labels/_047.xml'\n",
            "'/content/drive/My Drive/Helper/labels/_048.xml' -> '/content/support/labels/_048.xml'\n",
            "'/content/drive/My Drive/Helper/labels/_050.xml' -> '/content/support/labels/_050.xml'\n",
            "'/content/drive/My Drive/Helper/labels/_049.xml' -> '/content/support/labels/_049.xml'\n",
            "'/content/drive/My Drive/Helper/labels/_052.xml' -> '/content/support/labels/_052.xml'\n",
            "'/content/drive/My Drive/Helper/labels/_051.xml' -> '/content/support/labels/_051.xml'\n",
            "'/content/drive/My Drive/Helper/labels/_055.xml' -> '/content/support/labels/_055.xml'\n",
            "'/content/drive/My Drive/Helper/labels/_054.xml' -> '/content/support/labels/_054.xml'\n",
            "'/content/drive/My Drive/Helper/labels/_053.xml' -> '/content/support/labels/_053.xml'\n",
            "'/content/drive/My Drive/Helper/labels/_057.xml' -> '/content/support/labels/_057.xml'\n",
            "'/content/drive/My Drive/Helper/labels/_056.xml' -> '/content/support/labels/_056.xml'\n",
            "'/content/drive/My Drive/Helper/labels/_061.xml' -> '/content/support/labels/_061.xml'\n",
            "'/content/drive/My Drive/Helper/labels/_063.xml' -> '/content/support/labels/_063.xml'\n",
            "'/content/drive/My Drive/Helper/labels/_062.xml' -> '/content/support/labels/_062.xml'\n",
            "'/content/drive/My Drive/Helper/labels/_066.xml' -> '/content/support/labels/_066.xml'\n",
            "'/content/drive/My Drive/Helper/labels/_065.xml' -> '/content/support/labels/_065.xml'\n",
            "'/content/drive/My Drive/Helper/labels/_067.xml' -> '/content/support/labels/_067.xml'\n",
            "'/content/drive/My Drive/Helper/labels/_068.xml' -> '/content/support/labels/_068.xml'\n",
            "'/content/drive/My Drive/Helper/labels/_069.xml' -> '/content/support/labels/_069.xml'\n",
            "'/content/drive/My Drive/Helper/labels/_070.xml' -> '/content/support/labels/_070.xml'\n",
            "'/content/drive/My Drive/Helper/labels/_071.xml' -> '/content/support/labels/_071.xml'\n",
            "'/content/drive/My Drive/Helper/labels/_072.xml' -> '/content/support/labels/_072.xml'\n",
            "'/content/drive/My Drive/Helper/labels/_073.xml' -> '/content/support/labels/_073.xml'\n",
            "'/content/drive/My Drive/Helper/labels/_074.xml' -> '/content/support/labels/_074.xml'\n",
            "'/content/drive/My Drive/Helper/labels/_077.xml' -> '/content/support/labels/_077.xml'\n",
            "'/content/drive/My Drive/Helper/labels/_079.xml' -> '/content/support/labels/_079.xml'\n",
            "'/content/drive/My Drive/Helper/labels/_075.xml' -> '/content/support/labels/_075.xml'\n",
            "'/content/drive/My Drive/Helper/labels/_076.xml' -> '/content/support/labels/_076.xml'\n",
            "'/content/drive/My Drive/Helper/labels/_080.xml' -> '/content/support/labels/_080.xml'\n",
            "'/content/drive/My Drive/Helper/labels/_082.xml' -> '/content/support/labels/_082.xml'\n",
            "'/content/drive/My Drive/Helper/labels/_081.xml' -> '/content/support/labels/_081.xml'\n",
            "'/content/drive/My Drive/Helper/labels/_083.xml' -> '/content/support/labels/_083.xml'\n",
            "'/content/drive/My Drive/Helper/labels/_085.xml' -> '/content/support/labels/_085.xml'\n",
            "'/content/drive/My Drive/Helper/labels/_084.xml' -> '/content/support/labels/_084.xml'\n",
            "'/content/drive/My Drive/Helper/labels/_089.xml' -> '/content/support/labels/_089.xml'\n",
            "'/content/drive/My Drive/Helper/labels/_087.xml' -> '/content/support/labels/_087.xml'\n",
            "'/content/drive/My Drive/Helper/labels/_086.xml' -> '/content/support/labels/_086.xml'\n",
            "'/content/drive/My Drive/Helper/labels/_091.xml' -> '/content/support/labels/_091.xml'\n",
            "'/content/drive/My Drive/Helper/labels/_090.xml' -> '/content/support/labels/_090.xml'\n",
            "'/content/drive/My Drive/Helper/labels/_092.xml' -> '/content/support/labels/_092.xml'\n",
            "'/content/drive/My Drive/Helper/labels/_095.xml' -> '/content/support/labels/_095.xml'\n",
            "'/content/drive/My Drive/Helper/labels/_096.xml' -> '/content/support/labels/_096.xml'\n",
            "'/content/drive/My Drive/Helper/labels/_097.xml' -> '/content/support/labels/_097.xml'\n",
            "'/content/drive/My Drive/Helper/labels/_098.xml' -> '/content/support/labels/_098.xml'\n",
            "'/content/drive/My Drive/Helper/labels/_099.xml' -> '/content/support/labels/_099.xml'\n",
            "'/content/drive/My Drive/Helper/labels/_102.xml' -> '/content/support/labels/_102.xml'\n",
            "'/content/drive/My Drive/Helper/labels/_103.xml' -> '/content/support/labels/_103.xml'\n",
            "'/content/drive/My Drive/Helper/labels/_105.xml' -> '/content/support/labels/_105.xml'\n",
            "'/content/drive/My Drive/Helper/labels/_104.xml' -> '/content/support/labels/_104.xml'\n",
            "'/content/drive/My Drive/Helper/labels/_106.xml' -> '/content/support/labels/_106.xml'\n",
            "'/content/drive/My Drive/Helper/labels/_107.xml' -> '/content/support/labels/_107.xml'\n",
            "'/content/drive/My Drive/Helper/labels/_111.xml' -> '/content/support/labels/_111.xml'\n",
            "'/content/drive/My Drive/Helper/labels/_109.xml' -> '/content/support/labels/_109.xml'\n",
            "'/content/drive/My Drive/Helper/labels/_108.xml' -> '/content/support/labels/_108.xml'\n",
            "'/content/drive/My Drive/Helper/labels/_116.xml' -> '/content/support/labels/_116.xml'\n",
            "'/content/drive/My Drive/Helper/labels/_115.xml' -> '/content/support/labels/_115.xml'\n",
            "'/content/drive/My Drive/Helper/labels/_114.xml' -> '/content/support/labels/_114.xml'\n",
            "'/content/drive/My Drive/Helper/labels/_117.xml' -> '/content/support/labels/_117.xml'\n",
            "'/content/drive/My Drive/Helper/labels/_122.xml' -> '/content/support/labels/_122.xml'\n",
            "'/content/drive/My Drive/Helper/labels/_119.xml' -> '/content/support/labels/_119.xml'\n",
            "'/content/drive/My Drive/Helper/labels/_120.xml' -> '/content/support/labels/_120.xml'\n",
            "'/content/drive/My Drive/Helper/labels/_126.xml' -> '/content/support/labels/_126.xml'\n",
            "'/content/drive/My Drive/Helper/labels/_123.xml' -> '/content/support/labels/_123.xml'\n",
            "'/content/drive/My Drive/Helper/labels/_127.xml' -> '/content/support/labels/_127.xml'\n",
            "'/content/drive/My Drive/Helper/labels/_128.xml' -> '/content/support/labels/_128.xml'\n",
            "'/content/drive/My Drive/Helper/labels/_131.xml' -> '/content/support/labels/_131.xml'\n",
            "'/content/drive/My Drive/Helper/labels/_130.xml' -> '/content/support/labels/_130.xml'\n",
            "'/content/drive/My Drive/Helper/labels/_139.xml' -> '/content/support/labels/_139.xml'\n",
            "'/content/drive/My Drive/Helper/labels/_137.xml' -> '/content/support/labels/_137.xml'\n",
            "'/content/drive/My Drive/Helper/labels/_133.xml' -> '/content/support/labels/_133.xml'\n",
            "'/content/drive/My Drive/Helper/labels/_163.xml' -> '/content/support/labels/_163.xml'\n",
            "'/content/drive/My Drive/Helper/labels/_159.xml' -> '/content/support/labels/_159.xml'\n",
            "'/content/drive/My Drive/Helper/labels/_160.xml' -> '/content/support/labels/_160.xml'\n",
            "'/content/drive/My Drive/Helper/labels/_158.xml' -> '/content/support/labels/_158.xml'\n",
            "'/content/drive/My Drive/Helper/labels/_164.xml' -> '/content/support/labels/_164.xml'\n",
            "'/content/drive/My Drive/Helper/create_tf_record.py' -> '/content/support/create_tf_record.py'\n",
            "'/content/drive/My Drive/Helper/label_map.pbtxt' -> '/content/support/label_map.pbtxt'\n"
          ],
          "name": "stdout"
        }
      ]
    },
    {
      "cell_type": "code",
      "metadata": {
        "id": "XPF_jfbJJCqv",
        "colab_type": "code",
        "colab": {
          "base_uri": "https://localhost:8080/",
          "height": 35
        },
        "outputId": "bdde5572-7d55-4385-870e-67c23a3bfd75"
      },
      "source": [
        "os.chdir('../..')\n",
        "os.getcwd()"
      ],
      "execution_count": null,
      "outputs": [
        {
          "output_type": "execute_result",
          "data": {
            "application/vnd.google.colaboratory.intrinsic+json": {
              "type": "string"
            },
            "text/plain": [
              "'/content'"
            ]
          },
          "metadata": {
            "tags": []
          },
          "execution_count": 12
        }
      ]
    },
    {
      "cell_type": "code",
      "metadata": {
        "id": "KfNIyzlEJRMM",
        "colab_type": "code",
        "colab": {}
      },
      "source": [
        "pbtxt='''\n",
        "item {\n",
        "    id: 1\n",
        "    name: 'Jerry'\n",
        "}\n",
        "\n",
        "item {\n",
        "    id: 2\n",
        "    name: 'Tom'\n",
        "}\n",
        "\n",
        "\n",
        "\n",
        "'''\n",
        "\n",
        "with open(\"training/label_map.pbtxt\", \"w\") as text_file:\n",
        "    text_file.write(pbtxt)"
      ],
      "execution_count": null,
      "outputs": []
    },
    {
      "cell_type": "code",
      "metadata": {
        "id": "ZsHR8x2QJXdm",
        "colab_type": "code",
        "colab": {
          "base_uri": "https://localhost:8080/",
          "height": 121
        },
        "outputId": "6a218b87-7f3f-48e5-db73-47225cea9686"
      },
      "source": [
        "tfrecords='training/tfrecords'\n",
        "if not os.path.exists(tfrecords):\n",
        "  os.makedirs(tfrecords)\n",
        "!python support/create_tf_record.py --image_dir training/images --split 0.8 --labels support/labels   \\\n",
        "--output_path training/tfrecords --label_map  training/label_map.pbtxt\n",
        "  "
      ],
      "execution_count": null,
      "outputs": [
        {
          "output_type": "stream",
          "text": [
            "2020-09-10 06:50:23.336274: I tensorflow/stream_executor/platform/default/dso_loader.cc:48] Successfully opened dynamic library libcudart.so.10.1\n",
            "/usr/local/lib/python3.6/dist-packages/object_detection/utils/dataset_util.py:79: FutureWarning: The behavior of this method will change in future versions. Use specific 'len(elem)' or 'elem is not None' test instead.\n",
            "  if not xml:\n",
            "Done Writing, Saved: training/tfrecords/train.record\n",
            "Done Writing, Saved: training/tfrecords/val.record\n"
          ],
          "name": "stdout"
        }
      ]
    },
    {
      "cell_type": "code",
      "metadata": {
        "id": "fLuf-D_WAj-4",
        "colab_type": "code",
        "colab": {
          "base_uri": "https://localhost:8080/",
          "height": 54
        },
        "outputId": "42b8144d-f1bb-4612-8a09-41ef56958f51"
      },
      "source": [
        "\n",
        "%cp -av '/content/drive/My Drive/Models/mask_rcnn_inception_resnet_v2_1024x1024_coco17_gpu-8.tar.gz' '/content' \n",
        " \n"
      ],
      "execution_count": null,
      "outputs": [
        {
          "output_type": "stream",
          "text": [
            "'/content/drive/My Drive/Models/mask_rcnn_inception_resnet_v2_1024x1024_coco17_gpu-8.tar.gz' -> '/content/mask_rcnn_inception_resnet_v2_1024x1024_coco17_gpu-8.tar.gz'\n"
          ],
          "name": "stdout"
        }
      ]
    },
    {
      "cell_type": "code",
      "metadata": {
        "id": "CIMQypXhJnUu",
        "colab_type": "code",
        "colab": {
          "base_uri": "https://localhost:8080/",
          "height": 370
        },
        "outputId": "a60ec6ad-0a69-4549-ff11-1a44a2620102"
      },
      "source": [
        "MODEL = 'mask_rcnn_inception_resnet_v2_1024x1024_coco17_gpu-8'\n",
        "Model_name= MODEL+'.tar.gz'\n",
        "model_directory = \"pretrained_model\"\n",
        "#os.chdir('Models')\n",
        " \n",
        "tar = tarfile.open(Model_name)\n",
        "tar.extractall()\n",
        "tar.close()\n",
        " \n",
        "# # Removing the downloaded zip file.\n",
        "os.remove(Model_name)\n",
        " \n",
        "os.rename(MODEL, model_directory)\n",
        " \n",
        "#\n",
        "\n",
        "print('Model Downloaded')\n",
        "#os.chdir('../..')"
      ],
      "execution_count": null,
      "outputs": [
        {
          "output_type": "error",
          "ename": "FileNotFoundError",
          "evalue": "ignored",
          "traceback": [
            "\u001b[0;31m---------------------------------------------------------------------------\u001b[0m",
            "\u001b[0;31mFileNotFoundError\u001b[0m                         Traceback (most recent call last)",
            "\u001b[0;32m<ipython-input-31-22d08c4655a5>\u001b[0m in \u001b[0;36m<module>\u001b[0;34m()\u001b[0m\n\u001b[1;32m      4\u001b[0m \u001b[0;31m#os.chdir('Models')\u001b[0m\u001b[0;34m\u001b[0m\u001b[0;34m\u001b[0m\u001b[0;34m\u001b[0m\u001b[0m\n\u001b[1;32m      5\u001b[0m \u001b[0;34m\u001b[0m\u001b[0m\n\u001b[0;32m----> 6\u001b[0;31m \u001b[0mtar\u001b[0m \u001b[0;34m=\u001b[0m \u001b[0mtarfile\u001b[0m\u001b[0;34m.\u001b[0m\u001b[0mopen\u001b[0m\u001b[0;34m(\u001b[0m\u001b[0mModel_name\u001b[0m\u001b[0;34m)\u001b[0m\u001b[0;34m\u001b[0m\u001b[0;34m\u001b[0m\u001b[0m\n\u001b[0m\u001b[1;32m      7\u001b[0m \u001b[0mtar\u001b[0m\u001b[0;34m.\u001b[0m\u001b[0mextractall\u001b[0m\u001b[0;34m(\u001b[0m\u001b[0;34m)\u001b[0m\u001b[0;34m\u001b[0m\u001b[0;34m\u001b[0m\u001b[0m\n\u001b[1;32m      8\u001b[0m \u001b[0mtar\u001b[0m\u001b[0;34m.\u001b[0m\u001b[0mclose\u001b[0m\u001b[0;34m(\u001b[0m\u001b[0;34m)\u001b[0m\u001b[0;34m\u001b[0m\u001b[0;34m\u001b[0m\u001b[0m\n",
            "\u001b[0;32m/usr/lib/python3.6/tarfile.py\u001b[0m in \u001b[0;36mopen\u001b[0;34m(cls, name, mode, fileobj, bufsize, **kwargs)\u001b[0m\n\u001b[1;32m   1571\u001b[0m                     \u001b[0msaved_pos\u001b[0m \u001b[0;34m=\u001b[0m \u001b[0mfileobj\u001b[0m\u001b[0;34m.\u001b[0m\u001b[0mtell\u001b[0m\u001b[0;34m(\u001b[0m\u001b[0;34m)\u001b[0m\u001b[0;34m\u001b[0m\u001b[0;34m\u001b[0m\u001b[0m\n\u001b[1;32m   1572\u001b[0m                 \u001b[0;32mtry\u001b[0m\u001b[0;34m:\u001b[0m\u001b[0;34m\u001b[0m\u001b[0;34m\u001b[0m\u001b[0m\n\u001b[0;32m-> 1573\u001b[0;31m                     \u001b[0;32mreturn\u001b[0m \u001b[0mfunc\u001b[0m\u001b[0;34m(\u001b[0m\u001b[0mname\u001b[0m\u001b[0;34m,\u001b[0m \u001b[0;34m\"r\"\u001b[0m\u001b[0;34m,\u001b[0m \u001b[0mfileobj\u001b[0m\u001b[0;34m,\u001b[0m \u001b[0;34m**\u001b[0m\u001b[0mkwargs\u001b[0m\u001b[0;34m)\u001b[0m\u001b[0;34m\u001b[0m\u001b[0;34m\u001b[0m\u001b[0m\n\u001b[0m\u001b[1;32m   1574\u001b[0m                 \u001b[0;32mexcept\u001b[0m \u001b[0;34m(\u001b[0m\u001b[0mReadError\u001b[0m\u001b[0;34m,\u001b[0m \u001b[0mCompressionError\u001b[0m\u001b[0;34m)\u001b[0m\u001b[0;34m:\u001b[0m\u001b[0;34m\u001b[0m\u001b[0;34m\u001b[0m\u001b[0m\n\u001b[1;32m   1575\u001b[0m                     \u001b[0;32mif\u001b[0m \u001b[0mfileobj\u001b[0m \u001b[0;32mis\u001b[0m \u001b[0;32mnot\u001b[0m \u001b[0;32mNone\u001b[0m\u001b[0;34m:\u001b[0m\u001b[0;34m\u001b[0m\u001b[0;34m\u001b[0m\u001b[0m\n",
            "\u001b[0;32m/usr/lib/python3.6/tarfile.py\u001b[0m in \u001b[0;36mgzopen\u001b[0;34m(cls, name, mode, fileobj, compresslevel, **kwargs)\u001b[0m\n\u001b[1;32m   1636\u001b[0m \u001b[0;34m\u001b[0m\u001b[0m\n\u001b[1;32m   1637\u001b[0m         \u001b[0;32mtry\u001b[0m\u001b[0;34m:\u001b[0m\u001b[0;34m\u001b[0m\u001b[0;34m\u001b[0m\u001b[0m\n\u001b[0;32m-> 1638\u001b[0;31m             \u001b[0mfileobj\u001b[0m \u001b[0;34m=\u001b[0m \u001b[0mgzip\u001b[0m\u001b[0;34m.\u001b[0m\u001b[0mGzipFile\u001b[0m\u001b[0;34m(\u001b[0m\u001b[0mname\u001b[0m\u001b[0;34m,\u001b[0m \u001b[0mmode\u001b[0m \u001b[0;34m+\u001b[0m \u001b[0;34m\"b\"\u001b[0m\u001b[0;34m,\u001b[0m \u001b[0mcompresslevel\u001b[0m\u001b[0;34m,\u001b[0m \u001b[0mfileobj\u001b[0m\u001b[0;34m)\u001b[0m\u001b[0;34m\u001b[0m\u001b[0;34m\u001b[0m\u001b[0m\n\u001b[0m\u001b[1;32m   1639\u001b[0m         \u001b[0;32mexcept\u001b[0m \u001b[0mOSError\u001b[0m\u001b[0;34m:\u001b[0m\u001b[0;34m\u001b[0m\u001b[0;34m\u001b[0m\u001b[0m\n\u001b[1;32m   1640\u001b[0m             \u001b[0;32mif\u001b[0m \u001b[0mfileobj\u001b[0m \u001b[0;32mis\u001b[0m \u001b[0;32mnot\u001b[0m \u001b[0;32mNone\u001b[0m \u001b[0;32mand\u001b[0m \u001b[0mmode\u001b[0m \u001b[0;34m==\u001b[0m \u001b[0;34m'r'\u001b[0m\u001b[0;34m:\u001b[0m\u001b[0;34m\u001b[0m\u001b[0;34m\u001b[0m\u001b[0m\n",
            "\u001b[0;32m/usr/lib/python3.6/gzip.py\u001b[0m in \u001b[0;36m__init__\u001b[0;34m(self, filename, mode, compresslevel, fileobj, mtime)\u001b[0m\n\u001b[1;32m    161\u001b[0m             \u001b[0mmode\u001b[0m \u001b[0;34m+=\u001b[0m \u001b[0;34m'b'\u001b[0m\u001b[0;34m\u001b[0m\u001b[0;34m\u001b[0m\u001b[0m\n\u001b[1;32m    162\u001b[0m         \u001b[0;32mif\u001b[0m \u001b[0mfileobj\u001b[0m \u001b[0;32mis\u001b[0m \u001b[0;32mNone\u001b[0m\u001b[0;34m:\u001b[0m\u001b[0;34m\u001b[0m\u001b[0;34m\u001b[0m\u001b[0m\n\u001b[0;32m--> 163\u001b[0;31m             \u001b[0mfileobj\u001b[0m \u001b[0;34m=\u001b[0m \u001b[0mself\u001b[0m\u001b[0;34m.\u001b[0m\u001b[0mmyfileobj\u001b[0m \u001b[0;34m=\u001b[0m \u001b[0mbuiltins\u001b[0m\u001b[0;34m.\u001b[0m\u001b[0mopen\u001b[0m\u001b[0;34m(\u001b[0m\u001b[0mfilename\u001b[0m\u001b[0;34m,\u001b[0m \u001b[0mmode\u001b[0m \u001b[0;32mor\u001b[0m \u001b[0;34m'rb'\u001b[0m\u001b[0;34m)\u001b[0m\u001b[0;34m\u001b[0m\u001b[0;34m\u001b[0m\u001b[0m\n\u001b[0m\u001b[1;32m    164\u001b[0m         \u001b[0;32mif\u001b[0m \u001b[0mfilename\u001b[0m \u001b[0;32mis\u001b[0m \u001b[0;32mNone\u001b[0m\u001b[0;34m:\u001b[0m\u001b[0;34m\u001b[0m\u001b[0;34m\u001b[0m\u001b[0m\n\u001b[1;32m    165\u001b[0m             \u001b[0mfilename\u001b[0m \u001b[0;34m=\u001b[0m \u001b[0mgetattr\u001b[0m\u001b[0;34m(\u001b[0m\u001b[0mfileobj\u001b[0m\u001b[0;34m,\u001b[0m \u001b[0;34m'name'\u001b[0m\u001b[0;34m,\u001b[0m \u001b[0;34m''\u001b[0m\u001b[0;34m)\u001b[0m\u001b[0;34m\u001b[0m\u001b[0;34m\u001b[0m\u001b[0m\n",
            "\u001b[0;31mFileNotFoundError\u001b[0m: [Errno 2] No such file or directory: 'mask_rcnn_inception_resnet_v2_1024x1024_coco17_gpu-8.tar.gz'"
          ]
        }
      ]
    },
    {
      "cell_type": "code",
      "metadata": {
        "id": "IUNaJX0OG4fP",
        "colab_type": "code",
        "colab": {}
      },
      "source": [
        "shutil.rmtree('pretrained_model/checkpoint')"
      ],
      "execution_count": null,
      "outputs": []
    },
    {
      "cell_type": "code",
      "metadata": {
        "id": "ix1-I9KYO5Lt",
        "colab_type": "code",
        "colab": {}
      },
      "source": [
        "\n",
        "os.environ['PYTHONPATH'] += \":/content/models\"\n",
        "\n",
        "import sys\n",
        "sys.path.append(\"/content/models\")"
      ],
      "execution_count": null,
      "outputs": []
    },
    {
      "cell_type": "code",
      "metadata": {
        "id": "QtmUcLjDHcfl",
        "colab_type": "code",
        "colab": {
          "base_uri": "https://localhost:8080/",
          "height": 1000
        },
        "outputId": "d4b73b1e-306a-4f53-dc37-5381a9dfad56"
      },
      "source": [
        "!python models/research/object_detection/model_main.py  --pipeline_config_path=\"pretrained_model/pipeline.config\" \\\n",
        "--model_dir=\"pretrained_model\"  --num_train_steps=20000"
      ],
      "execution_count": null,
      "outputs": [
        {
          "output_type": "stream",
          "text": [
            "2020-09-10 07:07:49.003833: I tensorflow/stream_executor/platform/default/dso_loader.cc:48] Successfully opened dynamic library libcudart.so.10.1\n",
            "WARNING:tensorflow:Forced number of epochs for all eval validations to be 1.\n",
            "W0910 07:07:50.935733 139881219655552 model_lib.py:771] Forced number of epochs for all eval validations to be 1.\n",
            "INFO:tensorflow:Maybe overwriting train_steps: 20000\n",
            "I0910 07:07:50.935942 139881219655552 config_util.py:552] Maybe overwriting train_steps: 20000\n",
            "INFO:tensorflow:Maybe overwriting use_bfloat16: False\n",
            "I0910 07:07:50.936037 139881219655552 config_util.py:552] Maybe overwriting use_bfloat16: False\n",
            "INFO:tensorflow:Maybe overwriting sample_1_of_n_eval_examples: 1\n",
            "I0910 07:07:50.936113 139881219655552 config_util.py:552] Maybe overwriting sample_1_of_n_eval_examples: 1\n",
            "INFO:tensorflow:Maybe overwriting eval_num_epochs: 1\n",
            "I0910 07:07:50.936189 139881219655552 config_util.py:552] Maybe overwriting eval_num_epochs: 1\n",
            "WARNING:tensorflow:Expected number of evaluation epochs is 1, but instead encountered `eval_on_train_input_config.num_epochs` = 0. Overwriting `num_epochs` to 1.\n",
            "W0910 07:07:50.936300 139881219655552 model_lib.py:787] Expected number of evaluation epochs is 1, but instead encountered `eval_on_train_input_config.num_epochs` = 0. Overwriting `num_epochs` to 1.\n",
            "INFO:tensorflow:create_estimator_and_inputs: use_tpu False, export_to_tpu None\n",
            "I0910 07:07:50.936391 139881219655552 model_lib.py:822] create_estimator_and_inputs: use_tpu False, export_to_tpu None\n",
            "INFO:tensorflow:Using config: {'_model_dir': 'pretrained_model', '_tf_random_seed': None, '_save_summary_steps': 100, '_save_checkpoints_steps': None, '_save_checkpoints_secs': 600, '_session_config': allow_soft_placement: true\n",
            "graph_options {\n",
            "  rewrite_options {\n",
            "    meta_optimizer_iterations: ONE\n",
            "  }\n",
            "}\n",
            ", '_keep_checkpoint_max': 5, '_keep_checkpoint_every_n_hours': 10000, '_log_step_count_steps': 100, '_train_distribute': None, '_device_fn': None, '_protocol': None, '_eval_distribute': None, '_experimental_distribute': None, '_experimental_max_worker_delay_secs': None, '_session_creation_timeout_secs': 7200, '_service': None, '_cluster_spec': ClusterSpec({}), '_task_type': 'worker', '_task_id': 0, '_global_id_in_cluster': 0, '_master': '', '_evaluation_master': '', '_is_chief': True, '_num_ps_replicas': 0, '_num_worker_replicas': 1}\n",
            "I0910 07:07:50.936870 139881219655552 estimator.py:191] Using config: {'_model_dir': 'pretrained_model', '_tf_random_seed': None, '_save_summary_steps': 100, '_save_checkpoints_steps': None, '_save_checkpoints_secs': 600, '_session_config': allow_soft_placement: true\n",
            "graph_options {\n",
            "  rewrite_options {\n",
            "    meta_optimizer_iterations: ONE\n",
            "  }\n",
            "}\n",
            ", '_keep_checkpoint_max': 5, '_keep_checkpoint_every_n_hours': 10000, '_log_step_count_steps': 100, '_train_distribute': None, '_device_fn': None, '_protocol': None, '_eval_distribute': None, '_experimental_distribute': None, '_experimental_max_worker_delay_secs': None, '_session_creation_timeout_secs': 7200, '_service': None, '_cluster_spec': ClusterSpec({}), '_task_type': 'worker', '_task_id': 0, '_global_id_in_cluster': 0, '_master': '', '_evaluation_master': '', '_is_chief': True, '_num_ps_replicas': 0, '_num_worker_replicas': 1}\n",
            "WARNING:tensorflow:Estimator's model_fn (<function create_model_fn.<locals>.model_fn at 0x7f384d759158>) includes params argument, but params are not passed to Estimator.\n",
            "W0910 07:07:50.937729 139881219655552 model_fn.py:629] Estimator's model_fn (<function create_model_fn.<locals>.model_fn at 0x7f384d759158>) includes params argument, but params are not passed to Estimator.\n",
            "INFO:tensorflow:Not using Distribute Coordinator.\n",
            "I0910 07:07:50.938340 139881219655552 estimator_training.py:186] Not using Distribute Coordinator.\n",
            "INFO:tensorflow:Running training and evaluation locally (non-distributed).\n",
            "I0910 07:07:50.938531 139881219655552 training.py:645] Running training and evaluation locally (non-distributed).\n",
            "INFO:tensorflow:Start train and evaluate loop. The evaluate will happen after every checkpoint. Checkpoint frequency is determined based on RunConfig arguments: save_checkpoints_steps None or save_checkpoints_secs 600.\n",
            "I0910 07:07:50.938799 139881219655552 training.py:733] Start train and evaluate loop. The evaluate will happen after every checkpoint. Checkpoint frequency is determined based on RunConfig arguments: save_checkpoints_steps None or save_checkpoints_secs 600.\n",
            "WARNING:tensorflow:From /usr/local/lib/python3.6/dist-packages/tensorflow/python/training/training_util.py:236: Variable.initialized_value (from tensorflow.python.ops.variables) is deprecated and will be removed in a future version.\n",
            "Instructions for updating:\n",
            "Use Variable.read_value. Variables in 2.X are initialized automatically both in eager and graph (inside tf.defun) contexts.\n",
            "W0910 07:07:50.944009 139881219655552 deprecation.py:323] From /usr/local/lib/python3.6/dist-packages/tensorflow/python/training/training_util.py:236: Variable.initialized_value (from tensorflow.python.ops.variables) is deprecated and will be removed in a future version.\n",
            "Instructions for updating:\n",
            "Use Variable.read_value. Variables in 2.X are initialized automatically both in eager and graph (inside tf.defun) contexts.\n",
            "2020-09-10 07:07:50.951735: I tensorflow/stream_executor/platform/default/dso_loader.cc:48] Successfully opened dynamic library libcuda.so.1\n",
            "2020-09-10 07:07:50.963993: I tensorflow/stream_executor/cuda/cuda_gpu_executor.cc:982] successful NUMA node read from SysFS had negative value (-1), but there must be at least one NUMA node, so returning NUMA node zero\n",
            "2020-09-10 07:07:50.964552: I tensorflow/core/common_runtime/gpu/gpu_device.cc:1716] Found device 0 with properties: \n",
            "pciBusID: 0000:00:04.0 name: Tesla P100-PCIE-16GB computeCapability: 6.0\n",
            "coreClock: 1.3285GHz coreCount: 56 deviceMemorySize: 15.90GiB deviceMemoryBandwidth: 681.88GiB/s\n",
            "2020-09-10 07:07:50.964591: I tensorflow/stream_executor/platform/default/dso_loader.cc:48] Successfully opened dynamic library libcudart.so.10.1\n",
            "2020-09-10 07:07:50.966368: I tensorflow/stream_executor/platform/default/dso_loader.cc:48] Successfully opened dynamic library libcublas.so.10\n",
            "2020-09-10 07:07:50.968002: I tensorflow/stream_executor/platform/default/dso_loader.cc:48] Successfully opened dynamic library libcufft.so.10\n",
            "2020-09-10 07:07:50.968345: I tensorflow/stream_executor/platform/default/dso_loader.cc:48] Successfully opened dynamic library libcurand.so.10\n",
            "2020-09-10 07:07:50.970172: I tensorflow/stream_executor/platform/default/dso_loader.cc:48] Successfully opened dynamic library libcusolver.so.10\n",
            "2020-09-10 07:07:50.971314: I tensorflow/stream_executor/platform/default/dso_loader.cc:48] Successfully opened dynamic library libcusparse.so.10\n",
            "2020-09-10 07:07:50.974921: I tensorflow/stream_executor/platform/default/dso_loader.cc:48] Successfully opened dynamic library libcudnn.so.7\n",
            "2020-09-10 07:07:50.975035: I tensorflow/stream_executor/cuda/cuda_gpu_executor.cc:982] successful NUMA node read from SysFS had negative value (-1), but there must be at least one NUMA node, so returning NUMA node zero\n",
            "2020-09-10 07:07:50.975682: I tensorflow/stream_executor/cuda/cuda_gpu_executor.cc:982] successful NUMA node read from SysFS had negative value (-1), but there must be at least one NUMA node, so returning NUMA node zero\n",
            "2020-09-10 07:07:50.976162: I tensorflow/core/common_runtime/gpu/gpu_device.cc:1858] Adding visible gpu devices: 0\n",
            "Traceback (most recent call last):\n",
            "  File \"models/research/object_detection/model_main.py\", line 108, in <module>\n",
            "    tf.app.run()\n",
            "  File \"/usr/local/lib/python3.6/dist-packages/tensorflow/python/platform/app.py\", line 40, in run\n",
            "    _run(main=main, argv=argv, flags_parser=_parse_flags_tolerate_undef)\n",
            "  File \"/usr/local/lib/python3.6/dist-packages/absl/app.py\", line 299, in run\n",
            "    _run_main(main, args)\n",
            "  File \"/usr/local/lib/python3.6/dist-packages/absl/app.py\", line 250, in _run_main\n",
            "    sys.exit(main(argv))\n",
            "  File \"models/research/object_detection/model_main.py\", line 104, in main\n",
            "    tf.estimator.train_and_evaluate(estimator, train_spec, eval_specs[0])\n",
            "  File \"/usr/local/lib/python3.6/dist-packages/tensorflow_estimator/python/estimator/training.py\", line 505, in train_and_evaluate\n",
            "    return executor.run()\n",
            "  File \"/usr/local/lib/python3.6/dist-packages/tensorflow_estimator/python/estimator/training.py\", line 646, in run\n",
            "    return self.run_local()\n",
            "  File \"/usr/local/lib/python3.6/dist-packages/tensorflow_estimator/python/estimator/training.py\", line 747, in run_local\n",
            "    saving_listeners=saving_listeners)\n",
            "  File \"/usr/local/lib/python3.6/dist-packages/tensorflow_estimator/python/estimator/estimator.py\", line 349, in train\n",
            "    loss = self._train_model(input_fn, hooks, saving_listeners)\n",
            "  File \"/usr/local/lib/python3.6/dist-packages/tensorflow_estimator/python/estimator/estimator.py\", line 1175, in _train_model\n",
            "    return self._train_model_default(input_fn, hooks, saving_listeners)\n",
            "  File \"/usr/local/lib/python3.6/dist-packages/tensorflow_estimator/python/estimator/estimator.py\", line 1201, in _train_model_default\n",
            "    self._get_features_and_labels_from_input_fn(input_fn, ModeKeys.TRAIN))\n",
            "  File \"/usr/local/lib/python3.6/dist-packages/tensorflow_estimator/python/estimator/estimator.py\", line 1037, in _get_features_and_labels_from_input_fn\n",
            "    self._call_input_fn(input_fn, mode))\n",
            "  File \"/usr/local/lib/python3.6/dist-packages/tensorflow_estimator/python/estimator/estimator.py\", line 1130, in _call_input_fn\n",
            "    return input_fn(**kwargs)\n",
            "  File \"/usr/local/lib/python3.6/dist-packages/object_detection/inputs.py\", line 698, in _train_input_fn\n",
            "    params=params)\n",
            "  File \"/usr/local/lib/python3.6/dist-packages/object_detection/inputs.py\", line 788, in train_input\n",
            "    model_config, is_training=True).preprocess\n",
            "  File \"/usr/local/lib/python3.6/dist-packages/object_detection/builders/model_builder.py\", line 1083, in build\n",
            "    add_summaries)\n",
            "  File \"/usr/local/lib/python3.6/dist-packages/object_detection/builders/model_builder.py\", line 575, in _build_faster_rcnn_model\n",
            "    _check_feature_extractor_exists(frcnn_config.feature_extractor.type)\n",
            "  File \"/usr/local/lib/python3.6/dist-packages/object_detection/builders/model_builder.py\", line 243, in _check_feature_extractor_exists\n",
            "    'Tensorflow'.format(feature_extractor_type))\n",
            "ValueError: mask_rcnn_inception_resnet_v2_1024x1024_coco17_gpu-8 is not supported. See `model_builder.py` for features extractors compatible with different versions of Tensorflow\n"
          ],
          "name": "stdout"
        }
      ]
    },
    {
      "cell_type": "code",
      "metadata": {
        "id": "9LZRpKNVTtqP",
        "colab_type": "code",
        "colab": {
          "base_uri": "https://localhost:8080/",
          "height": 67
        },
        "outputId": "166d0c56-afc6-426e-d3f6-d1e2e1193db7"
      },
      "source": [
        "!pip install deployment\n",
        "!pip install trainer\n"
      ],
      "execution_count": null,
      "outputs": [
        {
          "output_type": "stream",
          "text": [
            "\u001b[31mERROR: Could not find a version that satisfies the requirement deployment (from versions: none)\u001b[0m\n",
            "\u001b[31mERROR: No matching distribution found for deployment\u001b[0m\n",
            "Requirement already satisfied: trainer in /usr/local/lib/python3.6/dist-packages (0.0.1)\n"
          ],
          "name": "stdout"
        }
      ]
    },
    {
      "cell_type": "code",
      "metadata": {
        "id": "JcKqGh2GT_n2",
        "colab_type": "code",
        "colab": {
          "base_uri": "https://localhost:8080/",
          "height": 154
        },
        "outputId": "493cc57e-c23d-483e-856f-039818a7c0df"
      },
      "source": [
        "!python models/research/object_detection/legacy/train.py --pipeline_config_path=\"pretrained_model\\pipeline.config\" \\\n",
        "--train_dir=\"pretrained_model\" "
      ],
      "execution_count": null,
      "outputs": [
        {
          "output_type": "stream",
          "text": [
            "2020-09-10 07:01:35.119078: I tensorflow/stream_executor/platform/default/dso_loader.cc:48] Successfully opened dynamic library libcudart.so.10.1\n",
            "Traceback (most recent call last):\n",
            "  File \"models/research/object_detection/legacy/train.py\", line 54, in <module>\n",
            "    from object_detection.legacy import trainer\n",
            "  File \"/usr/local/lib/python3.6/dist-packages/object_detection/legacy/trainer.py\", line 34, in <module>\n",
            "    from deployment import model_deploy\n",
            "ModuleNotFoundError: No module named 'deployment'\n"
          ],
          "name": "stdout"
        }
      ]
    },
    {
      "cell_type": "code",
      "metadata": {
        "id": "TBkV4WVJHCQy",
        "colab_type": "code",
        "colab": {}
      },
      "source": [
        ""
      ],
      "execution_count": null,
      "outputs": []
    }
  ]
}